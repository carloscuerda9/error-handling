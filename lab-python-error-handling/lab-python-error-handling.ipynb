{
 "cells": [
  {
   "cell_type": "markdown",
   "id": "25d7736c-ba17-4aff-b6bb-66eba20fbf4e",
   "metadata": {},
   "source": [
    "# Lab | Error Handling"
   ]
  },
  {
   "cell_type": "markdown",
   "id": "bc99b386-7508-47a0-bcdb-d969deaf6c8b",
   "metadata": {},
   "source": [
    "## Exercise: Error Handling for Managing Customer Orders\n",
    "\n",
    "The implementation of your code for managing customer orders assumes that the user will always enter a valid input. \n",
    "\n",
    "For example, we could modify the `initialize_inventory` function to include error handling.\n",
    "   - If the user enters an invalid quantity (e.g., a negative value or a non-numeric value), display an error message and ask them to re-enter the quantity for that product.\n",
    "   - Use a try-except block to handle the error and continue prompting the user until a valid quantity is entered.\n",
    "\n",
    "```python\n",
    "# Step 1: Define the function for initializing the inventory with error handling\n",
    "def initialize_inventory(products):\n",
    "    inventory = {}\n",
    "    for product in products:\n",
    "        valid_quantity = False\n",
    "        while not valid_quantity:\n",
    "            try:\n",
    "                quantity = int(input(f\"Enter the quantity of {product}s available: \"))\n",
    "                if quantity < 0:\n",
    "                    raise ValueError(\"Invalid quantity! Please enter a non-negative value.\")\n",
    "                valid_quantity = True\n",
    "            except ValueError as error:\n",
    "                print(f\"Error: {error}\")\n",
    "        inventory[product] = quantity\n",
    "    return inventory\n",
    "\n",
    "# Or, in another way:\n",
    "\n",
    "def initialize_inventory(products):\n",
    "    inventory = {}\n",
    "    for product in products:\n",
    "        valid_input = False\n",
    "        while not valid_input:\n",
    "            try:\n",
    "                quantity = int(input(f\"Enter the quantity of {product}s available: \"))\n",
    "                if quantity >= 0:\n",
    "                    inventory[product] = quantity\n",
    "                    valid_input = True\n",
    "                else:\n",
    "                    print(\"Quantity cannot be negative. Please enter a valid quantity.\")\n",
    "            except ValueError:\n",
    "                print(\"Invalid input. Please enter a valid quantity.\")\n",
    "    return inventory\n",
    "```\n",
    "\n",
    "Let's enhance your code by implementing error handling to handle invalid inputs.\n",
    "\n",
    "Follow the steps below to complete the exercise:\n",
    "\n",
    "2. Modify the `calculate_total_price` function to include error handling.\n",
    "   - If the user enters an invalid price (e.g., a negative value or a non-numeric value), display an error message and ask them to re-enter the price for that product.\n",
    "   - Use a try-except block to handle the error and continue prompting the user until a valid price is entered.\n",
    "\n",
    "3. Modify the `get_customer_orders` function to include error handling.\n",
    "   - If the user enters an invalid number of orders (e.g., a negative value or a non-numeric value), display an error message and ask them to re-enter the number of orders.\n",
    "   - If the user enters an invalid product name (e.g., a product name that is not in the inventory), or that doesn't have stock available, display an error message and ask them to re-enter the product name. *Hint: you will need to pass inventory as a parameter*\n",
    "   - Use a try-except block to handle the error and continue prompting the user until a valid product name is entered.\n",
    "\n",
    "4. Test your code by running the program and deliberately entering invalid quantities and product names. Make sure the error handling mechanism works as expected.\n"
   ]
  },
  {
   "cell_type": "code",
   "execution_count": 1,
   "id": "be3e27e7",
   "metadata": {},
   "outputs": [
    {
     "name": "stdout",
     "output_type": "stream",
     "text": [
      "¿Cuántos camisetas tiene la tienda?: 5\n",
      "¿Cuántos tazas tiene la tienda?: -1\n",
      "Error:Debes ingresar un numero entero positivo\n",
      "¿Cuántos sombreros tiene la tienda?: 4\n",
      "¿Cuántos libros tiene la tienda?: 0\n",
      "¿Cuántos llaveros tiene la tienda?: 5\n",
      "{'camiseta': 5, 'sombrero': 4, 'libro': 0, 'llavero': 5}\n"
     ]
    }
   ],
   "source": [
    "def initialize_inventory(products):\n",
    "    inventory = {}\n",
    "\n",
    "    for product in products:\n",
    "        while True:\n",
    "            try:\n",
    "                quantity = int(input(f'¿Cuántos {product}s tiene la tienda?: '))\n",
    "                if quantity < 0 :\n",
    "                    print(\"Error:Debes ingresar un numero entero positivo\")\n",
    "                else:\n",
    "                    inventory[product] = quantity\n",
    "                break  \n",
    "            except ValueError:\n",
    "                print(\"Error: Debes ingresar un número entero para la cantidad.\")\n",
    "\n",
    "    return inventory\n",
    "productos = [\"camiseta\", \"taza\", \"sombrero\", \"libro\", \"llavero\"]\n",
    "inventario = initialize_inventory(productos)\n",
    "print(inventario)"
   ]
  },
  {
   "cell_type": "code",
   "execution_count": 2,
   "id": "7cd7df2a",
   "metadata": {},
   "outputs": [
    {
     "name": "stdout",
     "output_type": "stream",
     "text": [
      "\n",
      "¿Cuál es el precio del camiseta: 5\n",
      "\n",
      "¿Cuál es el precio del taza: -4\n",
      "Error: Ingresa un valor numérico válido para el precio.\n",
      "\n",
      "¿Cuál es el precio del taza: 8\n",
      "\n",
      "¿Cuál es el precio del sombrero: 8\n",
      "\n",
      "¿Cuál es el precio del libro: 8\n",
      "\n",
      "¿Cuál es el precio del llavero: 8\n",
      "\n",
      "El precio total de la orden es: $37.0\n"
     ]
    }
   ],
   "source": [
    "def calculate_total_price(customer_orders):\n",
    "    prices = []\n",
    "\n",
    "    for product in customer_orders:\n",
    "        while True:\n",
    "            try:\n",
    "                price = float(input(f\"\\n¿Cuál es el precio del {product}: \"))\n",
    "                if price < 0:\n",
    "                    raise ValueError(\"El precio no puede ser negativo.\")\n",
    "                prices.append(price)\n",
    "                break  # Sal del bucle si el precio es válido\n",
    "            except ValueError:\n",
    "                print(\"Error: Ingresa un valor numérico válido para el precio.\")\n",
    "\n",
    "    return sum(prices)\n",
    "\n",
    "customer_orders = [\"camiseta\", \"taza\", \"sombrero\", \"libro\", \"llavero\"]\n",
    "total_price = calculate_total_price(customer_orders)\n",
    "print(f\"\\nEl precio total de la orden es: ${total_price}\")"
   ]
  },
  {
   "cell_type": "code",
   "execution_count": null,
   "id": "e9207c7c",
   "metadata": {},
   "outputs": [
    {
     "name": "stdout",
     "output_type": "stream",
     "text": [
      "\n",
      "¿Cuántos productos hay en el pedido? -5\n",
      "Error: Ingresa un número entero positivo para el número de productos.\n",
      "\n",
      "¿Cuántos productos hay en el pedido? 5\n",
      "\n",
      "Introduce el producto que deseas comprar: -2\n",
      "Error: Ingresa un nombre de producto válido con stock disponible.\n",
      "\n",
      "Introduce el producto que deseas comprar: 4\n",
      "Error: Ingresa un nombre de producto válido con stock disponible.\n",
      "\n",
      "Introduce el producto que deseas comprar: camiseta\n",
      "Error: Ingresa un nombre de producto válido con stock disponible.\n",
      "\n",
      "Introduce el producto que deseas comprar: libro\n",
      "\n",
      "Introduce el producto que deseas comprar: llavero\n"
     ]
    }
   ],
   "source": [
    "def get_customer_orders(products, inventory):\n",
    "    while True:\n",
    "        try:\n",
    "            num_orders = int(input(\"\\n¿Cuántos productos hay en el pedido? \"))\n",
    "            if num_orders <= 0:\n",
    "                raise ValueError(\"El número de productos debe ser positivo.\")\n",
    "            break  # Sal del bucle si el número de productos es válido\n",
    "        except ValueError:\n",
    "            print(\"Error: Ingresa un número entero positivo para el número de productos.\")\n",
    "\n",
    "    customer_orders = []\n",
    "\n",
    "    for _ in range(num_orders):\n",
    "        while True:\n",
    "            try:\n",
    "                product_input = input(\"\\nIntroduce el producto que deseas comprar: \")\n",
    "                if product_input not in products or inventory.get(product_input, 0) <= 0:\n",
    "                    raise ValueError(\"Producto no válido o sin stock disponible.\")\n",
    "                customer_orders.append(product_input)\n",
    "                break  # Sal del bucle si el producto es válido\n",
    "            except ValueError:\n",
    "                print(\"Error: Ingresa un nombre de producto válido con stock disponible.\")\n",
    "\n",
    "    return customer_orders\n",
    "\n",
    "# Ejemplo de uso\n",
    "products_in_inventory = [\"camiseta\", \"taza\", \"sombrero\", \"libro\", \"llavero\"]\n",
    "inventory = {\"Camiseta\": 10, \"Taza\": 5, \"Sombrero\": 0, \"libro\": 5, \"llavero\": 8}\n",
    "\n",
    "customer_orders = get_customer_orders(products_in_inventory, inventory)\n",
    "print(f\"\\nLos productos seleccionados en el pedido son: {customer_orders}\")\n"
   ]
  },
  {
   "cell_type": "code",
   "execution_count": null,
   "id": "20376e60",
   "metadata": {},
   "outputs": [],
   "source": []
  },
  {
   "cell_type": "code",
   "execution_count": null,
   "id": "c0ed2fc9",
   "metadata": {},
   "outputs": [],
   "source": []
  }
 ],
 "metadata": {
  "kernelspec": {
   "display_name": "Python 3 (ipykernel)",
   "language": "python",
   "name": "python3"
  },
  "language_info": {
   "codemirror_mode": {
    "name": "ipython",
    "version": 3
   },
   "file_extension": ".py",
   "mimetype": "text/x-python",
   "name": "python",
   "nbconvert_exporter": "python",
   "pygments_lexer": "ipython3",
   "version": "3.11.5"
  }
 },
 "nbformat": 4,
 "nbformat_minor": 5
}
